{
 "cells": [
  {
   "cell_type": "code",
   "execution_count": 27,
   "id": "e5197bf4",
   "metadata": {},
   "outputs": [],
   "source": [
    "import pyspark\n",
    "import os\n",
    "import sys\n",
    "from pyspark import SparkContext\n",
    "from pyspark import SparkConf\n",
    "os.environ['PYSPARK_PYTHON'] = sys.executable\n",
    "os.environ['PYSPARK_DRIVER_PYTHON'] = sys.executable\n",
    "from pyspark.sql import SparkSession"
   ]
  },
  {
   "cell_type": "code",
   "execution_count": 28,
   "id": "5374ae19",
   "metadata": {},
   "outputs": [],
   "source": [
    "spark = SparkSession.builder.config(\"spark.driver.memory\", \"16g\").appName('square').getOrCreate()"
   ]
  },
  {
   "cell_type": "code",
   "execution_count": 29,
   "id": "108e5757",
   "metadata": {},
   "outputs": [
    {
     "name": "stdout",
     "output_type": "stream",
     "text": [
      "root\n",
      " |-- integers: long (nullable = true)\n",
      " |-- floats: double (nullable = true)\n",
      " |-- integer_arrays: array (nullable = true)\n",
      " |    |-- element: long (containsNull = true)\n",
      "\n",
      "+--------+------+--------------+\n",
      "|integers|floats|integer_arrays|\n",
      "+--------+------+--------------+\n",
      "|       1|  -1.0|        [1, 2]|\n",
      "|       2|   0.5|     [3, 4, 5]|\n",
      "|       3|   2.7|  [6, 7, 8, 9]|\n",
      "+--------+------+--------------+\n",
      "\n"
     ]
    }
   ],
   "source": [
    "import pandas as pd\n",
    "from pyspark.sql import functions as F\n",
    "df_pd = pd.DataFrame(\n",
    "data={'integers': [1, 2, 3],\n",
    "'floats': [-1.0, 0.5, 2.7],\n",
    "'integer_arrays': [[1, 2], [3, 4, 5], [6, 7, 8, 9]]}\n",
    ")\n",
    "df = spark.createDataFrame(df_pd)\n",
    "df.printSchema() # It will print the Schema\n",
    "df.show()"
   ]
  },
  {
   "cell_type": "code",
   "execution_count": 30,
   "id": "f500819f",
   "metadata": {},
   "outputs": [],
   "source": [
    "from pyspark.sql.functions import udf\n",
    "@udf\n",
    "def square(x):\n",
    "    return x*x"
   ]
  },
  {
   "cell_type": "code",
   "execution_count": 31,
   "id": "d72621fe",
   "metadata": {},
   "outputs": [
    {
     "name": "stdout",
     "output_type": "stream",
     "text": [
      "+--------+-----------+\n",
      "|integers|int_squared|\n",
      "+--------+-----------+\n",
      "|       1|          1|\n",
      "|       2|          4|\n",
      "|       3|          9|\n",
      "+--------+-----------+\n",
      "\n"
     ]
    }
   ],
   "source": [
    "df.select('integers',square('integers').alias('int_squared')).show()"
   ]
  },
  {
   "cell_type": "code",
   "execution_count": null,
   "id": "04d4ee77",
   "metadata": {},
   "outputs": [],
   "source": []
  }
 ],
 "metadata": {
  "kernelspec": {
   "display_name": "Python 3 (ipykernel)",
   "language": "python",
   "name": "python3"
  },
  "language_info": {
   "codemirror_mode": {
    "name": "ipython",
    "version": 3
   },
   "file_extension": ".py",
   "mimetype": "text/x-python",
   "name": "python",
   "nbconvert_exporter": "python",
   "pygments_lexer": "ipython3",
   "version": "3.11.5"
  }
 },
 "nbformat": 4,
 "nbformat_minor": 5
}
