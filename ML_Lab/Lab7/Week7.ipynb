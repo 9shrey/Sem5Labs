{
 "cells": [
  {
   "cell_type": "markdown",
   "id": "6e3b21b1",
   "metadata": {},
   "source": [
    "# Q1"
   ]
  },
  {
   "cell_type": "code",
   "execution_count": 3,
   "id": "25f312b2",
   "metadata": {
    "scrolled": true
   },
   "outputs": [
    {
     "name": "stdout",
     "output_type": "stream",
     "text": [
      "Probability that the student is a hosteler given that they scored an A grade: 0.6923\n"
     ]
    }
   ],
   "source": [
    "H = 0.60\n",
    "D = 0.40\n",
    "A_H = 0.30\n",
    "A_S = 0.20\n",
    "\n",
    "A = (A_H * H) + (A_S* D)\n",
    "\n",
    "H_A = (A_H * H) / A\n",
    "print(f\"Probability that the student is a hosteler given that they scored an A grade: {H_A:.4f}\")"
   ]
  },
  {
   "cell_type": "code",
   "execution_count": 5,
   "id": "2aad3592",
   "metadata": {},
   "outputs": [
    {
     "name": "stdout",
     "output_type": "stream",
     "text": [
      "Probability of having the disease given a positive test result: 0.3333\n"
     ]
    }
   ],
   "source": [
    "D = 0.01\n",
    "N_D = 0.99\n",
    "Pos_D = 0.99\n",
    "Pos_N_D = 0.02\n",
    "\n",
    "Pos = (Pos_D * D) + (Pos_N_D * N_D)\n",
    "\n",
    "P = (Pos_D * D) / Pos\n",
    "\n",
    "print(f\"Probability of having the disease given a positive test result: {P:.4f}\")\n"
   ]
  },
  {
   "cell_type": "markdown",
   "id": "6ceb8757",
   "metadata": {},
   "source": [
    "# Q2"
   ]
  },
  {
   "cell_type": "code",
   "execution_count": 30,
   "id": "e81a23a1",
   "metadata": {},
   "outputs": [
    {
     "name": "stdout",
     "output_type": "stream",
     "text": [
      "       age  income student credit_rating buys_computer\n",
      "0     <=30    high      no          fair            no\n",
      "1     <=30    high      no     excellent            no\n",
      "2  31...40    high      no          fair            no\n",
      "3      >40  medium      no          fair           yes\n",
      "4      >40     low     yes          fair           yes\n"
     ]
    }
   ],
   "source": [
    "import pandas as pd\n",
    "import numpy as np\n",
    "\n",
    "df = pd.read_csv('buyers.csv')\n",
    "\n",
    "print(df.head())"
   ]
  },
  {
   "cell_type": "code",
   "execution_count": 35,
   "id": "e8032387",
   "metadata": {},
   "outputs": [],
   "source": [
    "class NaiveBayesClassifier:\n",
    "    def __init__(self):\n",
    "        self.class_prob = {}\n",
    "        self.feature_prob = {}\n",
    "        self.classes = []\n",
    "\n",
    "    def fit(self, X, y):\n",
    "        self.classes = np.unique(y)\n",
    "        self.class_prob = {cls: np.mean(y == cls) for cls in self.classes}\n",
    "        \n",
    "        self.feature_prob = {cls: {} for cls in self.classes}\n",
    "        for cls in self.classes:\n",
    "            cls_data = X[y == cls]\n",
    "            for feature in X.columns:\n",
    "                feature_values = np.unique(X[feature])\n",
    "                self.feature_prob[cls][feature] = {}\n",
    "                for value in feature_values:\n",
    "                    self.feature_prob[cls][feature][value] = np.mean(cls_data[feature] == value)\n",
    "\n",
    "    def predict(self, X):\n",
    "        predictions = []\n",
    "        for _, row in X.iterrows():\n",
    "            class_probs = {}\n",
    "            for cls in self.classes:\n",
    "                prob = self.class_prob[cls]\n",
    "                for feature in X.columns:\n",
    "                    if row[feature] in self.feature_prob[cls][feature]:\n",
    "                        prob *= self.feature_prob[cls][feature][row[feature]]\n",
    "                    else:\n",
    "                        prob = 0\n",
    "                class_probs[cls] = prob\n",
    "                print(prob)\n",
    "            predictions.append(max(class_probs, key=class_probs.get))\n",
    "        return np.array(predictions)"
   ]
  },
  {
   "cell_type": "code",
   "execution_count": 36,
   "id": "602f8691",
   "metadata": {},
   "outputs": [
    {
     "name": "stdout",
     "output_type": "stream",
     "text": [
      "0.0098876953125\n",
      "0.0439453125\n",
      "Predictions: ['yes']\n"
     ]
    }
   ],
   "source": [
    "df = pd.read_csv('buyers.csv')\n",
    "X = df.drop(columns=['buys_computer'])\n",
    "y = df['buys_computer']\n",
    "\n",
    "nb_classifier = NaiveBayesClassifier()\n",
    "nb_classifier.fit(X, y)\n",
    "\n",
    "test_data = pd.DataFrame({\n",
    "    'age': ['<=30'],\n",
    "    'income': ['medium'],\n",
    "    'student': ['yes'],\n",
    "    'credit_rating': ['fair']\n",
    "})\n",
    "\n",
    "predictions = nb_classifier.predict(test_data)\n",
    "print(\"Predictions:\", predictions)\n"
   ]
  },
  {
   "cell_type": "markdown",
   "id": "5a18c096",
   "metadata": {},
   "source": [
    "# Q3"
   ]
  },
  {
   "cell_type": "code",
   "execution_count": 108,
   "id": "780a5a62",
   "metadata": {
    "scrolled": true
   },
   "outputs": [
    {
     "name": "stdout",
     "output_type": "stream",
     "text": [
      "The sentence 'A very close game' is classified as: Sports\n",
      "Probabilities: [2.7648000000000044e-05, 5.717532455930328e-06]\n"
     ]
    }
   ],
   "source": [
    "import pandas as pd\n",
    "import numpy as np\n",
    "from collections import Counter\n",
    "\n",
    "data = pd.read_csv(\"text_data.csv\")\n",
    "df = pd.DataFrame(data)\n",
    "\n",
    "def preprocess(text):\n",
    "    return text.lower().split()\n",
    "\n",
    "class NaiveBayesClassifier:\n",
    "\n",
    "    def __init__(self):\n",
    "        self.word_probs = {}\n",
    "        self.class_probs = {}\n",
    "        self.vocab = set()\n",
    "        self.class_counts = {}\n",
    "        self.total_docs = 0\n",
    "        self.total_words = {}\n",
    "        self.a = []\n",
    "\n",
    "    def fit(self, X, y):\n",
    "        class_counts = Counter(y)\n",
    "        self.total_docs = len(y)\n",
    "        self.class_counts = class_counts\n",
    "        self.class_probs = {cls: count / self.total_docs for cls, count in class_counts.items()}\n",
    "\n",
    "        word_counts = {cls: Counter() for cls in class_counts}\n",
    "        total_words = {cls: 0 for cls in class_counts}\n",
    "\n",
    "        for text, label in zip(X, y):\n",
    "            words = preprocess(text)\n",
    "            word_counts[label].update(words)\n",
    "            self.vocab.update(words)\n",
    "            total_words[label] += len(words)\n",
    "\n",
    "        self.total_words = total_words\n",
    "        vocab_size = len(self.vocab)\n",
    "\n",
    "        self.word_probs = {cls: {} for cls in class_counts}\n",
    "\n",
    "        for cls, counts in word_counts.items():\n",
    "            total_count = total_words[cls]\n",
    "            for word in self.vocab:\n",
    "                self.word_probs[cls][word] = (counts[word] + 1) / (total_count + vocab_size)\n",
    "\n",
    "    def predict(self, text):\n",
    "        words = preprocess(text)\n",
    "\n",
    "        scores = {cls: np.log(self.class_probs[cls]) for cls in self.class_probs}\n",
    "\n",
    "        raw_probs = {cls: self.class_probs[cls] for cls in self.class_probs}\n",
    "\n",
    "        for cls in self.class_probs:\n",
    "            log_prob = np.log(self.class_probs[cls])\n",
    "            for word in words:\n",
    "                if word in self.word_probs[cls]:\n",
    "                    word_prob = self.word_probs[cls][word]\n",
    "                else:\n",
    "                    word_prob = 1 / (self.total_words[cls] + len(self.vocab))\n",
    "                log_prob += np.log(word_prob)\n",
    "            scores[cls] = log_prob\n",
    "\n",
    "        self.a = [np.exp(score) for score in scores.values()]\n",
    "\n",
    "        predicted_class = max(scores, key=scores.get)\n",
    "\n",
    "        return predicted_class\n",
    "\n",
    "nb_classifier = NaiveBayesClassifier()\n",
    "nb_classifier.fit(df['Text'], df['Tag'])\n",
    "\n",
    "df['Predicted'] = df['Text'].apply(nb_classifier.predict)\n",
    "\n",
    "new_sentence = \"A very close game\"\n",
    "predicted_tag = nb_classifier.predict(new_sentence)\n",
    "print(f\"The sentence '{new_sentence}' is classified as: {predicted_tag}\")\n",
    "\n",
    "print(f\"Probabilities: {nb_classifier.a}\")\n"
   ]
  },
  {
   "cell_type": "code",
   "execution_count": null,
   "id": "9a954980",
   "metadata": {},
   "outputs": [],
   "source": []
  }
 ],
 "metadata": {
  "kernelspec": {
   "display_name": "Python 3 (ipykernel)",
   "language": "python",
   "name": "python3"
  },
  "language_info": {
   "codemirror_mode": {
    "name": "ipython",
    "version": 3
   },
   "file_extension": ".py",
   "mimetype": "text/x-python",
   "name": "python",
   "nbconvert_exporter": "python",
   "pygments_lexer": "ipython3",
   "version": "3.12.3"
  }
 },
 "nbformat": 4,
 "nbformat_minor": 5
}
