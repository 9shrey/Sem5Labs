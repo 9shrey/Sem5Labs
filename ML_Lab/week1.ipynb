{
 "cells": [
  {
   "cell_type": "markdown",
   "id": "4d58cd36",
   "metadata": {},
   "source": [
    "# Q1"
   ]
  },
  {
   "cell_type": "code",
   "execution_count": 2,
   "id": "b4cdc3e2",
   "metadata": {},
   "outputs": [
    {
     "name": "stdout",
     "output_type": "stream",
     "text": [
      "[[0 1 2]\n",
      " [3 4 5]\n",
      " [6 7 8]]\n"
     ]
    }
   ],
   "source": [
    "import numpy as np\n",
    "\n",
    "a = np.array([0,1,2,3,4,5,6,7,8])\n",
    "\n",
    "b = np.reshape(a,(3,3))\n",
    "\n",
    "print(b)"
   ]
  },
  {
   "cell_type": "markdown",
   "id": "e2ddf82e",
   "metadata": {},
   "source": [
    "# Q2"
   ]
  },
  {
   "cell_type": "code",
   "execution_count": 3,
   "id": "ca52ff99",
   "metadata": {},
   "outputs": [
    {
     "name": "stdout",
     "output_type": "stream",
     "text": [
      "[ 0 -1  2 -1  4 -1  6 -1  8 -1]\n"
     ]
    }
   ],
   "source": [
    "arr = np.array([0,1,2,3,4,5,6,7,8,9])\n",
    "for i in range(1,len(arr)+1,2):\n",
    "    arr[i] = -1\n",
    "print(arr)"
   ]
  },
  {
   "cell_type": "markdown",
   "id": "0b23cc9b",
   "metadata": {},
   "source": [
    "# Q3"
   ]
  },
  {
   "cell_type": "code",
   "execution_count": 78,
   "id": "ad538650",
   "metadata": {},
   "outputs": [
    {
     "name": "stdout",
     "output_type": "stream",
     "text": [
      "[1 2 4 5 6 7 8 9]\n",
      "[0]\n"
     ]
    }
   ],
   "source": [
    "x = np.array([21, 64, 86, 22, 74, 55, 81, 79, 90, 89]) \n",
    "y = np.array([21, 7, 3, 45, 10, 29, 55, 4, 37, 18])\n",
    "arr1 = []\n",
    "arr2 = []\n",
    "for i in range(10):\n",
    "    if(x[i]>y[i]):\n",
    "        arr1.append(i)\n",
    "    elif(x[i]==y[i]):\n",
    "        arr2.append(i)\n",
    "print(np.array(arr1))\n",
    "print(np.array(arr2))"
   ]
  },
  {
   "cell_type": "markdown",
   "id": "16e047c0",
   "metadata": {},
   "source": [
    "# Q4"
   ]
  },
  {
   "cell_type": "code",
   "execution_count": 5,
   "id": "0b9e1f4d",
   "metadata": {},
   "outputs": [
    {
     "name": "stdout",
     "output_type": "stream",
     "text": [
      "[[ 0  1  2  3]\n",
      " [20 21 22 23]\n",
      " [40 41 42 43]\n",
      " [60 61 62 63]\n",
      " [80 81 82 83]]\n"
     ]
    }
   ],
   "source": [
    "arr =  np.arange(100).reshape(5,-1)\n",
    "print(arr[:,:4])"
   ]
  },
  {
   "cell_type": "markdown",
   "id": "0f40c04e",
   "metadata": {},
   "source": [
    "# Additional 1"
   ]
  },
  {
   "cell_type": "code",
   "execution_count": 6,
   "id": "0f6fbbed",
   "metadata": {},
   "outputs": [
    {
     "name": "stdout",
     "output_type": "stream",
     "text": [
      "[35 36 32 39 31 30 33 31 35 31]\n"
     ]
    }
   ],
   "source": [
    "a = np.random.randint(30,40,size=10)\n",
    "print(a)"
   ]
  },
  {
   "cell_type": "markdown",
   "id": "74224cfc",
   "metadata": {},
   "source": [
    "# Additional 2"
   ]
  },
  {
   "cell_type": "code",
   "execution_count": 8,
   "id": "adb31bc8",
   "metadata": {},
   "outputs": [],
   "source": [
    "A= np.array([[1, 2, 3], [4, 5, 6], [7, 8, 10]])\n",
    "B = np.array([[7, 8, 10] ,[4, 5, 6], [1, 2, 3]])"
   ]
  },
  {
   "cell_type": "markdown",
   "id": "4c7165ce",
   "metadata": {},
   "source": [
    "Part 1"
   ]
  },
  {
   "cell_type": "code",
   "execution_count": 59,
   "id": "08ddffcb",
   "metadata": {},
   "outputs": [
    {
     "name": "stdout",
     "output_type": "stream",
     "text": [
      "[[-6 -6 -7]\n",
      " [ 0  0  0]\n",
      " [ 6  6  7]]\n",
      "\n",
      "\n",
      "[[ 8 10 13]\n",
      " [ 8 10 12]\n",
      " [ 8 10 13]]\n"
     ]
    }
   ],
   "source": [
    "C = A-B\n",
    "print(C)\n",
    "print(\"\\n\")\n",
    "E = A+B\n",
    "print(D)"
   ]
  },
  {
   "cell_type": "markdown",
   "id": "6b93a136",
   "metadata": {},
   "source": [
    "Part 2"
   ]
  },
  {
   "cell_type": "code",
   "execution_count": 60,
   "id": "cea83b0b",
   "metadata": {},
   "outputs": [],
   "source": [
    "sum_A = np.sum(A)\n",
    "sum_B = np.sum(B, axis=0)\n",
    "sum_C = np.sum(C, axis=1)\n"
   ]
  },
  {
   "cell_type": "code",
   "execution_count": 61,
   "id": "7ec1da4b",
   "metadata": {},
   "outputs": [
    {
     "name": "stdout",
     "output_type": "stream",
     "text": [
      "46\n",
      "[12 15 19]\n",
      "[-19   0  19]\n"
     ]
    }
   ],
   "source": [
    "print(sum_A)\n",
    "print(sum_B)\n",
    "print(sum_C)"
   ]
  },
  {
   "cell_type": "markdown",
   "id": "8037bb4b",
   "metadata": {},
   "source": [
    "Part 3"
   ]
  },
  {
   "cell_type": "code",
   "execution_count": 63,
   "id": "e990df0c",
   "metadata": {},
   "outputs": [
    {
     "name": "stdout",
     "output_type": "stream",
     "text": [
      "[[ 18  24  31]\n",
      " [ 54  69  88]\n",
      " [ 91 116 148]]\n"
     ]
    }
   ],
   "source": [
    "D = np.dot(A, B)\n",
    "print(D)"
   ]
  },
  {
   "cell_type": "markdown",
   "id": "01292453",
   "metadata": {},
   "source": [
    "Part 4"
   ]
  },
  {
   "cell_type": "code",
   "execution_count": 66,
   "id": "ce97b11f",
   "metadata": {},
   "outputs": [
    {
     "name": "stdout",
     "output_type": "stream",
     "text": [
      "[[-7 -6 -6]\n",
      " [ 0  0  0]\n",
      " [ 6  6  7]]\n"
     ]
    }
   ],
   "source": [
    "F = np.sort(C, axis=None).reshape(C.shape)\n",
    "print(F)"
   ]
  },
  {
   "cell_type": "markdown",
   "id": "a9f6f55d",
   "metadata": {},
   "source": [
    "Part 5"
   ]
  },
  {
   "cell_type": "code",
   "execution_count": 70,
   "id": "0291e31d",
   "metadata": {},
   "outputs": [
    {
     "name": "stdout",
     "output_type": "stream",
     "text": [
      "[[ 8  8  8]\n",
      " [10 10 10]\n",
      " [13 12 13]]\n"
     ]
    }
   ],
   "source": [
    "E = E.T\n",
    "print(E)"
   ]
  },
  {
   "cell_type": "code",
   "execution_count": null,
   "id": "b49811db",
   "metadata": {},
   "outputs": [],
   "source": []
  }
 ],
 "metadata": {
  "kernelspec": {
   "display_name": "Python 3 (ipykernel)",
   "language": "python",
   "name": "python3"
  },
  "language_info": {
   "codemirror_mode": {
    "name": "ipython",
    "version": 3
   },
   "file_extension": ".py",
   "mimetype": "text/x-python",
   "name": "python",
   "nbconvert_exporter": "python",
   "pygments_lexer": "ipython3",
   "version": "3.12.3"
  }
 },
 "nbformat": 4,
 "nbformat_minor": 5
}
